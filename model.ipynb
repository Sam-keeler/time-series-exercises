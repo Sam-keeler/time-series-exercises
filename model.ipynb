{
 "cells": [
  {
   "cell_type": "markdown",
   "metadata": {},
   "source": [
    "## Importing packages"
   ]
  },
  {
   "cell_type": "code",
   "execution_count": 1,
   "metadata": {},
   "outputs": [],
   "source": [
    "import prepare\n",
    "import acquire\n",
    "import numpy as np\n",
    "import pandas as pd\n",
    "import matplotlib.pyplot as plt\n",
    "import seaborn as sns\n",
    "import statsmodels.api as sm\n",
    "from statsmodels.tsa.api import Holt\n",
    "from sklearn.metrics import mean_squared_error\n",
    "from math import sqrt "
   ]
  },
  {
   "cell_type": "markdown",
   "metadata": {},
   "source": [
    "## Acquiring data"
   ]
  },
  {
   "cell_type": "code",
   "execution_count": 2,
   "metadata": {},
   "outputs": [],
   "source": [
    "df = pd.read_csv('GlobalLandTemperaturesByState.csv')"
   ]
  },
  {
   "cell_type": "markdown",
   "metadata": {},
   "source": [
    "## Prep"
   ]
  },
  {
   "cell_type": "code",
   "execution_count": 3,
   "metadata": {},
   "outputs": [],
   "source": [
    "# Specifies the state of New Mexico, sets date as index, resamples by year, and takes only the dates past 1900 \n",
    "# to avoid high uncertainty\n",
    "\n",
    "df = df[df['State'] == 'New Mexico']\n",
    "df['dt'] = pd.to_datetime(df.dt)\n",
    "df = df.set_index('dt')\n",
    "df = df.resample('Y').mean()\n",
    "df = df.loc['1900-01-01':]"
   ]
  },
  {
   "cell_type": "code",
   "execution_count": 4,
   "metadata": {},
   "outputs": [
    {
     "data": {
      "text/html": [
       "<div>\n",
       "<style scoped>\n",
       "    .dataframe tbody tr th:only-of-type {\n",
       "        vertical-align: middle;\n",
       "    }\n",
       "\n",
       "    .dataframe tbody tr th {\n",
       "        vertical-align: top;\n",
       "    }\n",
       "\n",
       "    .dataframe thead th {\n",
       "        text-align: right;\n",
       "    }\n",
       "</style>\n",
       "<table border=\"1\" class=\"dataframe\">\n",
       "  <thead>\n",
       "    <tr style=\"text-align: right;\">\n",
       "      <th></th>\n",
       "      <th>AverageTemperature</th>\n",
       "      <th>AverageTemperatureUncertainty</th>\n",
       "    </tr>\n",
       "    <tr>\n",
       "      <th>dt</th>\n",
       "      <th></th>\n",
       "      <th></th>\n",
       "    </tr>\n",
       "  </thead>\n",
       "  <tbody>\n",
       "    <tr>\n",
       "      <th>1900-12-31</th>\n",
       "      <td>12.172417</td>\n",
       "      <td>0.433083</td>\n",
       "    </tr>\n",
       "    <tr>\n",
       "      <th>1901-12-31</th>\n",
       "      <td>12.051583</td>\n",
       "      <td>0.447167</td>\n",
       "    </tr>\n",
       "    <tr>\n",
       "      <th>1902-12-31</th>\n",
       "      <td>11.963167</td>\n",
       "      <td>0.466833</td>\n",
       "    </tr>\n",
       "    <tr>\n",
       "      <th>1903-12-31</th>\n",
       "      <td>11.166833</td>\n",
       "      <td>0.509250</td>\n",
       "    </tr>\n",
       "    <tr>\n",
       "      <th>1904-12-31</th>\n",
       "      <td>11.833250</td>\n",
       "      <td>0.478583</td>\n",
       "    </tr>\n",
       "    <tr>\n",
       "      <th>...</th>\n",
       "      <td>...</td>\n",
       "      <td>...</td>\n",
       "    </tr>\n",
       "    <tr>\n",
       "      <th>2009-12-31</th>\n",
       "      <td>12.502667</td>\n",
       "      <td>0.182167</td>\n",
       "    </tr>\n",
       "    <tr>\n",
       "      <th>2010-12-31</th>\n",
       "      <td>12.452250</td>\n",
       "      <td>0.169583</td>\n",
       "    </tr>\n",
       "    <tr>\n",
       "      <th>2011-12-31</th>\n",
       "      <td>12.734000</td>\n",
       "      <td>0.189250</td>\n",
       "    </tr>\n",
       "    <tr>\n",
       "      <th>2012-12-31</th>\n",
       "      <td>13.482833</td>\n",
       "      <td>0.218083</td>\n",
       "    </tr>\n",
       "    <tr>\n",
       "      <th>2013-12-31</th>\n",
       "      <td>14.263889</td>\n",
       "      <td>0.295556</td>\n",
       "    </tr>\n",
       "  </tbody>\n",
       "</table>\n",
       "<p>114 rows × 2 columns</p>\n",
       "</div>"
      ],
      "text/plain": [
       "            AverageTemperature  AverageTemperatureUncertainty\n",
       "dt                                                           \n",
       "1900-12-31           12.172417                       0.433083\n",
       "1901-12-31           12.051583                       0.447167\n",
       "1902-12-31           11.963167                       0.466833\n",
       "1903-12-31           11.166833                       0.509250\n",
       "1904-12-31           11.833250                       0.478583\n",
       "...                        ...                            ...\n",
       "2009-12-31           12.502667                       0.182167\n",
       "2010-12-31           12.452250                       0.169583\n",
       "2011-12-31           12.734000                       0.189250\n",
       "2012-12-31           13.482833                       0.218083\n",
       "2013-12-31           14.263889                       0.295556\n",
       "\n",
       "[114 rows x 2 columns]"
      ]
     },
     "execution_count": 4,
     "metadata": {},
     "output_type": "execute_result"
    }
   ],
   "source": [
    "df"
   ]
  },
  {
   "cell_type": "code",
   "execution_count": 5,
   "metadata": {},
   "outputs": [
    {
     "name": "stdout",
     "output_type": "stream",
     "text": [
      "<class 'pandas.core.frame.DataFrame'>\n",
      "DatetimeIndex: 114 entries, 1900-12-31 to 2013-12-31\n",
      "Freq: A-DEC\n",
      "Data columns (total 2 columns):\n",
      " #   Column                         Non-Null Count  Dtype  \n",
      "---  ------                         --------------  -----  \n",
      " 0   AverageTemperature             114 non-null    float64\n",
      " 1   AverageTemperatureUncertainty  114 non-null    float64\n",
      "dtypes: float64(2)\n",
      "memory usage: 2.7 KB\n"
     ]
    }
   ],
   "source": [
    "df.info()"
   ]
  },
  {
   "cell_type": "markdown",
   "metadata": {},
   "source": [
    "## Split"
   ]
  },
  {
   "cell_type": "code",
   "execution_count": 6,
   "metadata": {},
   "outputs": [],
   "source": [
    "# set train size to be 50% of total \n",
    "train_size = int(len(df) * .5)\n",
    "train_size\n",
    "\n",
    "# set validate size to be 30% of total \n",
    "validate_size = int(len(df) * .3)\n",
    "validate_size\n",
    "\n",
    "# set test size to be number of rows remaining. \n",
    "test_size = int(len(df) - train_size - validate_size)\n",
    "test_size\n",
    "\n",
    "validate_end_index = train_size + validate_size"
   ]
  },
  {
   "cell_type": "code",
   "execution_count": 7,
   "metadata": {},
   "outputs": [],
   "source": [
    "train = df[: train_size]\n",
    "validate = df[train_size:validate_end_index]\n",
    "test = df[validate_end_index:]"
   ]
  },
  {
   "cell_type": "markdown",
   "metadata": {},
   "source": [
    "## Explore"
   ]
  },
  {
   "cell_type": "code",
   "execution_count": 8,
   "metadata": {},
   "outputs": [
    {
     "data": {
      "image/png": "[encoded data removed]",
      "text/plain": [
       "<Figure size 864x288 with 1 Axes>"
      ]
     },
     "metadata": {
      "needs_background": "light"
     },
     "output_type": "display_data"
    },
    {
     "data": {
      "image/png": "[encoded data removed]",
      "text/plain": [
       "<Figure size 864x288 with 1 Axes>"
      ]
     },
     "metadata": {
      "needs_background": "light"
     },
     "output_type": "display_data"
    }
   ],
   "source": [
    "for col in train.columns:\n",
    "    plt.figure(figsize=(12,4))\n",
    "    plt.plot(train[col])\n",
    "    plt.plot(validate[col])\n",
    "    plt.plot(test[col])\n",
    "    plt.ylabel(col)\n",
    "    plt.title(col)\n",
    "    plt.show()"
   ]
  },
  {
   "cell_type": "code",
   "execution_count": 9,
   "metadata": {},
   "outputs": [
    {
     "data": {
      "text/plain": [
       "[<matplotlib.lines.Line2D at 0x7fbbf56618e0>]"
      ]
     },
     "execution_count": 9,
     "metadata": {},
     "output_type": "execute_result"
    },
    {
     "data": {
      "image/png": "[encoded data removed]",
      "text/plain": [
       "<Figure size 432x288 with 1 Axes>"
      ]
     },
     "metadata": {
      "needs_background": "light"
     },
     "output_type": "display_data"
    }
   ],
   "source": [
    "plt.plot(train.index, train.AverageTemperature)"
   ]
  },
  {
   "cell_type": "code",
   "execution_count": 10,
   "metadata": {},
   "outputs": [
    {
     "data": {
      "text/plain": [
       "[<matplotlib.lines.Line2D at 0x7fbbf5720250>]"
      ]
     },
     "execution_count": 10,
     "metadata": {},
     "output_type": "execute_result"
    },
    {
     "data": {
      "image/png": "[encoded data removed]",
      "text/plain": [
       "<Figure size 864x288 with 1 Axes>"
      ]
     },
     "metadata": {
      "needs_background": "light"
     },
     "output_type": "display_data"
    }
   ],
   "source": [
    "plt.figure(figsize=(12,4))\n",
    "plt.plot(train['AverageTemperature'].rolling(7).mean())\n",
    "plt.plot(train['AverageTemperature'].rolling(15).mean())\n",
    "plt.plot(train['AverageTemperature'], alpha=.3)"
   ]
  },
  {
   "cell_type": "markdown",
   "metadata": {},
   "source": [
    "## Modeling"
   ]
  },
  {
   "cell_type": "markdown",
   "metadata": {},
   "source": [
    "### Last observed value"
   ]
  },
  {
   "cell_type": "code",
   "execution_count": 11,
   "metadata": {},
   "outputs": [
    {
     "data": {
      "text/html": [
       "<div>\n",
       "<style scoped>\n",
       "    .dataframe tbody tr th:only-of-type {\n",
       "        vertical-align: middle;\n",
       "    }\n",
       "\n",
       "    .dataframe tbody tr th {\n",
       "        vertical-align: top;\n",
       "    }\n",
       "\n",
       "    .dataframe thead th {\n",
       "        text-align: right;\n",
       "    }\n",
       "</style>\n",
       "<table border=\"1\" class=\"dataframe\">\n",
       "  <thead>\n",
       "    <tr style=\"text-align: right;\">\n",
       "      <th></th>\n",
       "      <th>AverageTemperatureLOV</th>\n",
       "    </tr>\n",
       "    <tr>\n",
       "      <th>dt</th>\n",
       "      <th></th>\n",
       "    </tr>\n",
       "  </thead>\n",
       "  <tbody>\n",
       "    <tr>\n",
       "      <th>1957-12-31</th>\n",
       "      <td>12.24</td>\n",
       "    </tr>\n",
       "    <tr>\n",
       "      <th>1958-12-31</th>\n",
       "      <td>12.24</td>\n",
       "    </tr>\n",
       "    <tr>\n",
       "      <th>1959-12-31</th>\n",
       "      <td>12.24</td>\n",
       "    </tr>\n",
       "    <tr>\n",
       "      <th>1960-12-31</th>\n",
       "      <td>12.24</td>\n",
       "    </tr>\n",
       "    <tr>\n",
       "      <th>1961-12-31</th>\n",
       "      <td>12.24</td>\n",
       "    </tr>\n",
       "  </tbody>\n",
       "</table>\n",
       "</div>"
      ],
      "text/plain": [
       "            AverageTemperatureLOV\n",
       "dt                               \n",
       "1957-12-31                  12.24\n",
       "1958-12-31                  12.24\n",
       "1959-12-31                  12.24\n",
       "1960-12-31                  12.24\n",
       "1961-12-31                  12.24"
      ]
     },
     "execution_count": 11,
     "metadata": {},
     "output_type": "execute_result"
    }
   ],
   "source": [
    "temps = round(train['AverageTemperature'][-1:][0], 2)\n",
    "yhat_df = pd.DataFrame({'AverageTemperatureLOV': [temps]}, \n",
    "                      index = validate.index)\n",
    "yhat_df.head()"
   ]
  },
  {
   "cell_type": "markdown",
   "metadata": {},
   "source": [
    "### Simple average"
   ]
  },
  {
   "cell_type": "code",
   "execution_count": 12,
   "metadata": {},
   "outputs": [
    {
     "data": {
      "text/html": [
       "<div>\n",
       "<style scoped>\n",
       "    .dataframe tbody tr th:only-of-type {\n",
       "        vertical-align: middle;\n",
       "    }\n",
       "\n",
       "    .dataframe tbody tr th {\n",
       "        vertical-align: top;\n",
       "    }\n",
       "\n",
       "    .dataframe thead th {\n",
       "        text-align: right;\n",
       "    }\n",
       "</style>\n",
       "<table border=\"1\" class=\"dataframe\">\n",
       "  <thead>\n",
       "    <tr style=\"text-align: right;\">\n",
       "      <th></th>\n",
       "      <th>AverageTemperatureLOV</th>\n",
       "      <th>AverageTemperatureSimple</th>\n",
       "    </tr>\n",
       "    <tr>\n",
       "      <th>dt</th>\n",
       "      <th></th>\n",
       "      <th></th>\n",
       "    </tr>\n",
       "  </thead>\n",
       "  <tbody>\n",
       "    <tr>\n",
       "      <th>1957-12-31</th>\n",
       "      <td>12.24</td>\n",
       "      <td>11.85</td>\n",
       "    </tr>\n",
       "    <tr>\n",
       "      <th>1958-12-31</th>\n",
       "      <td>12.24</td>\n",
       "      <td>11.85</td>\n",
       "    </tr>\n",
       "    <tr>\n",
       "      <th>1959-12-31</th>\n",
       "      <td>12.24</td>\n",
       "      <td>11.85</td>\n",
       "    </tr>\n",
       "    <tr>\n",
       "      <th>1960-12-31</th>\n",
       "      <td>12.24</td>\n",
       "      <td>11.85</td>\n",
       "    </tr>\n",
       "    <tr>\n",
       "      <th>1961-12-31</th>\n",
       "      <td>12.24</td>\n",
       "      <td>11.85</td>\n",
       "    </tr>\n",
       "  </tbody>\n",
       "</table>\n",
       "</div>"
      ],
      "text/plain": [
       "            AverageTemperatureLOV  AverageTemperatureSimple\n",
       "dt                                                         \n",
       "1957-12-31                  12.24                     11.85\n",
       "1958-12-31                  12.24                     11.85\n",
       "1959-12-31                  12.24                     11.85\n",
       "1960-12-31                  12.24                     11.85\n",
       "1961-12-31                  12.24                     11.85"
      ]
     },
     "execution_count": 12,
     "metadata": {},
     "output_type": "execute_result"
    }
   ],
   "source": [
    "temps = round(train['AverageTemperature'].mean(),2)\n",
    "yhat_df['AverageTemperatureSimple'] = temps\n",
    "yhat_df.head()"
   ]
  },
  {
   "cell_type": "markdown",
   "metadata": {},
   "source": [
    "### Rolling average"
   ]
  },
  {
   "cell_type": "code",
   "execution_count": 13,
   "metadata": {},
   "outputs": [
    {
     "data": {
      "text/html": [
       "<div>\n",
       "<style scoped>\n",
       "    .dataframe tbody tr th:only-of-type {\n",
       "        vertical-align: middle;\n",
       "    }\n",
       "\n",
       "    .dataframe tbody tr th {\n",
       "        vertical-align: top;\n",
       "    }\n",
       "\n",
       "    .dataframe thead th {\n",
       "        text-align: right;\n",
       "    }\n",
       "</style>\n",
       "<table border=\"1\" class=\"dataframe\">\n",
       "  <thead>\n",
       "    <tr style=\"text-align: right;\">\n",
       "      <th></th>\n",
       "      <th>AverageTemperatureLOV</th>\n",
       "      <th>AverageTemperatureSimple</th>\n",
       "      <th>AverageTemperatureRolling</th>\n",
       "    </tr>\n",
       "    <tr>\n",
       "      <th>dt</th>\n",
       "      <th></th>\n",
       "      <th></th>\n",
       "      <th></th>\n",
       "    </tr>\n",
       "  </thead>\n",
       "  <tbody>\n",
       "    <tr>\n",
       "      <th>1957-12-31</th>\n",
       "      <td>12.24</td>\n",
       "      <td>11.85</td>\n",
       "      <td>12.26</td>\n",
       "    </tr>\n",
       "    <tr>\n",
       "      <th>1958-12-31</th>\n",
       "      <td>12.24</td>\n",
       "      <td>11.85</td>\n",
       "      <td>12.26</td>\n",
       "    </tr>\n",
       "    <tr>\n",
       "      <th>1959-12-31</th>\n",
       "      <td>12.24</td>\n",
       "      <td>11.85</td>\n",
       "      <td>12.26</td>\n",
       "    </tr>\n",
       "    <tr>\n",
       "      <th>1960-12-31</th>\n",
       "      <td>12.24</td>\n",
       "      <td>11.85</td>\n",
       "      <td>12.26</td>\n",
       "    </tr>\n",
       "    <tr>\n",
       "      <th>1961-12-31</th>\n",
       "      <td>12.24</td>\n",
       "      <td>11.85</td>\n",
       "      <td>12.26</td>\n",
       "    </tr>\n",
       "  </tbody>\n",
       "</table>\n",
       "</div>"
      ],
      "text/plain": [
       "            AverageTemperatureLOV  AverageTemperatureSimple  \\\n",
       "dt                                                            \n",
       "1957-12-31                  12.24                     11.85   \n",
       "1958-12-31                  12.24                     11.85   \n",
       "1959-12-31                  12.24                     11.85   \n",
       "1960-12-31                  12.24                     11.85   \n",
       "1961-12-31                  12.24                     11.85   \n",
       "\n",
       "            AverageTemperatureRolling  \n",
       "dt                                     \n",
       "1957-12-31                      12.26  \n",
       "1958-12-31                      12.26  \n",
       "1959-12-31                      12.26  \n",
       "1960-12-31                      12.26  \n",
       "1961-12-31                      12.26  "
      ]
     },
     "execution_count": 13,
     "metadata": {},
     "output_type": "execute_result"
    }
   ],
   "source": [
    "temps = round(train['AverageTemperature'].rolling(5).mean()[-1], 2)\n",
    "yhat_df['AverageTemperatureRolling'] = temps\n",
    "yhat_df.head()"
   ]
  },
  {
   "cell_type": "markdown",
   "metadata": {},
   "source": [
    "### Holt's linear trend"
   ]
  },
  {
   "cell_type": "code",
   "execution_count": 14,
   "metadata": {},
   "outputs": [],
   "source": [
    "model = Holt(train['AverageTemperature'], exponential=False, damped=True)\n",
    "model = model.fit(optimized=True)\n",
    "temps = model.predict(start = validate.AverageTemperature.index[0],\n",
    "                           end = validate.AverageTemperature.index[-1])\n",
    "yhat_df['AverageTemperatureHolt'] = round(temps, 2)"
   ]
  },
  {
   "cell_type": "code",
   "execution_count": 15,
   "metadata": {},
   "outputs": [
    {
     "data": {
      "text/html": [
       "<div>\n",
       "<style scoped>\n",
       "    .dataframe tbody tr th:only-of-type {\n",
       "        vertical-align: middle;\n",
       "    }\n",
       "\n",
       "    .dataframe tbody tr th {\n",
       "        vertical-align: top;\n",
       "    }\n",
       "\n",
       "    .dataframe thead th {\n",
       "        text-align: right;\n",
       "    }\n",
       "</style>\n",
       "<table border=\"1\" class=\"dataframe\">\n",
       "  <thead>\n",
       "    <tr style=\"text-align: right;\">\n",
       "      <th></th>\n",
       "      <th>AverageTemperatureLOV</th>\n",
       "      <th>AverageTemperatureSimple</th>\n",
       "      <th>AverageTemperatureRolling</th>\n",
       "      <th>AverageTemperatureHolt</th>\n",
       "    </tr>\n",
       "    <tr>\n",
       "      <th>dt</th>\n",
       "      <th></th>\n",
       "      <th></th>\n",
       "      <th></th>\n",
       "      <th></th>\n",
       "    </tr>\n",
       "  </thead>\n",
       "  <tbody>\n",
       "    <tr>\n",
       "      <th>1957-12-31</th>\n",
       "      <td>12.24</td>\n",
       "      <td>11.85</td>\n",
       "      <td>12.26</td>\n",
       "      <td>12.08</td>\n",
       "    </tr>\n",
       "    <tr>\n",
       "      <th>1958-12-31</th>\n",
       "      <td>12.24</td>\n",
       "      <td>11.85</td>\n",
       "      <td>12.26</td>\n",
       "      <td>12.08</td>\n",
       "    </tr>\n",
       "    <tr>\n",
       "      <th>1959-12-31</th>\n",
       "      <td>12.24</td>\n",
       "      <td>11.85</td>\n",
       "      <td>12.26</td>\n",
       "      <td>12.09</td>\n",
       "    </tr>\n",
       "    <tr>\n",
       "      <th>1960-12-31</th>\n",
       "      <td>12.24</td>\n",
       "      <td>11.85</td>\n",
       "      <td>12.26</td>\n",
       "      <td>12.09</td>\n",
       "    </tr>\n",
       "    <tr>\n",
       "      <th>1961-12-31</th>\n",
       "      <td>12.24</td>\n",
       "      <td>11.85</td>\n",
       "      <td>12.26</td>\n",
       "      <td>12.09</td>\n",
       "    </tr>\n",
       "  </tbody>\n",
       "</table>\n",
       "</div>"
      ],
      "text/plain": [
       "            AverageTemperatureLOV  AverageTemperatureSimple  \\\n",
       "dt                                                            \n",
       "1957-12-31                  12.24                     11.85   \n",
       "1958-12-31                  12.24                     11.85   \n",
       "1959-12-31                  12.24                     11.85   \n",
       "1960-12-31                  12.24                     11.85   \n",
       "1961-12-31                  12.24                     11.85   \n",
       "\n",
       "            AverageTemperatureRolling  AverageTemperatureHolt  \n",
       "dt                                                             \n",
       "1957-12-31                      12.26                   12.08  \n",
       "1958-12-31                      12.26                   12.08  \n",
       "1959-12-31                      12.26                   12.09  \n",
       "1960-12-31                      12.26                   12.09  \n",
       "1961-12-31                      12.26                   12.09  "
      ]
     },
     "execution_count": 15,
     "metadata": {},
     "output_type": "execute_result"
    }
   ],
   "source": [
    "yhat_df.head()"
   ]
  },
  {
   "cell_type": "markdown",
   "metadata": {},
   "source": [
    "## Evaluate"
   ]
  },
  {
   "cell_type": "code",
   "execution_count": 16,
   "metadata": {},
   "outputs": [],
   "source": [
    "results = pd.DataFrame()\n",
    "for col in yhat_df.columns:\n",
    "    results[col] = [round(sqrt(mean_squared_error(validate['AverageTemperature'], yhat_df[col])), 4)]\n",
    "results"
   ]
  },
  {
   "cell_type": "markdown",
   "metadata": {},
   "source": [
    "## Test"
   ]
  },
  {
   "cell_type": "code",
   "execution_count": 18,
   "metadata": {},
   "outputs": [],
   "source": [
    "tralidate = df[: validate_end_index]"
   ]
  },
  {
   "cell_type": "code",
   "execution_count": 19,
   "metadata": {},
   "outputs": [
    {
     "data": {
      "text/html": [
       "<div>\n",
       "<style scoped>\n",
       "    .dataframe tbody tr th:only-of-type {\n",
       "        vertical-align: middle;\n",
       "    }\n",
       "\n",
       "    .dataframe tbody tr th {\n",
       "        vertical-align: top;\n",
       "    }\n",
       "\n",
       "    .dataframe thead th {\n",
       "        text-align: right;\n",
       "    }\n",
       "</style>\n",
       "<table border=\"1\" class=\"dataframe\">\n",
       "  <thead>\n",
       "    <tr style=\"text-align: right;\">\n",
       "      <th></th>\n",
       "      <th>AverageTemperature</th>\n",
       "      <th>AverageTemperatureUncertainty</th>\n",
       "    </tr>\n",
       "    <tr>\n",
       "      <th>dt</th>\n",
       "      <th></th>\n",
       "      <th></th>\n",
       "    </tr>\n",
       "  </thead>\n",
       "  <tbody>\n",
       "    <tr>\n",
       "      <th>1900-12-31</th>\n",
       "      <td>12.172417</td>\n",
       "      <td>0.433083</td>\n",
       "    </tr>\n",
       "    <tr>\n",
       "      <th>1901-12-31</th>\n",
       "      <td>12.051583</td>\n",
       "      <td>0.447167</td>\n",
       "    </tr>\n",
       "    <tr>\n",
       "      <th>1902-12-31</th>\n",
       "      <td>11.963167</td>\n",
       "      <td>0.466833</td>\n",
       "    </tr>\n",
       "    <tr>\n",
       "      <th>1903-12-31</th>\n",
       "      <td>11.166833</td>\n",
       "      <td>0.509250</td>\n",
       "    </tr>\n",
       "    <tr>\n",
       "      <th>1904-12-31</th>\n",
       "      <td>11.833250</td>\n",
       "      <td>0.478583</td>\n",
       "    </tr>\n",
       "    <tr>\n",
       "      <th>...</th>\n",
       "      <td>...</td>\n",
       "      <td>...</td>\n",
       "    </tr>\n",
       "    <tr>\n",
       "      <th>1986-12-31</th>\n",
       "      <td>12.352167</td>\n",
       "      <td>0.222167</td>\n",
       "    </tr>\n",
       "    <tr>\n",
       "      <th>1987-12-31</th>\n",
       "      <td>11.453750</td>\n",
       "      <td>0.175417</td>\n",
       "    </tr>\n",
       "    <tr>\n",
       "      <th>1988-12-31</th>\n",
       "      <td>11.823167</td>\n",
       "      <td>0.174750</td>\n",
       "    </tr>\n",
       "    <tr>\n",
       "      <th>1989-12-31</th>\n",
       "      <td>12.528250</td>\n",
       "      <td>0.213417</td>\n",
       "    </tr>\n",
       "    <tr>\n",
       "      <th>1990-12-31</th>\n",
       "      <td>12.128333</td>\n",
       "      <td>0.205917</td>\n",
       "    </tr>\n",
       "  </tbody>\n",
       "</table>\n",
       "<p>91 rows × 2 columns</p>\n",
       "</div>"
      ],
      "text/plain": [
       "            AverageTemperature  AverageTemperatureUncertainty\n",
       "dt                                                           \n",
       "1900-12-31           12.172417                       0.433083\n",
       "1901-12-31           12.051583                       0.447167\n",
       "1902-12-31           11.963167                       0.466833\n",
       "1903-12-31           11.166833                       0.509250\n",
       "1904-12-31           11.833250                       0.478583\n",
       "...                        ...                            ...\n",
       "1986-12-31           12.352167                       0.222167\n",
       "1987-12-31           11.453750                       0.175417\n",
       "1988-12-31           11.823167                       0.174750\n",
       "1989-12-31           12.528250                       0.213417\n",
       "1990-12-31           12.128333                       0.205917\n",
       "\n",
       "[91 rows x 2 columns]"
      ]
     },
     "execution_count": 19,
     "metadata": {},
     "output_type": "execute_result"
    }
   ],
   "source": [
    "tralidate"
   ]
  },
  {
   "cell_type": "code",
   "execution_count": 20,
   "metadata": {},
   "outputs": [],
   "source": [
    "# Rolling average was my most successful model so I'm gonna go ahead with that.\n",
    "\n",
    "temps = round(tralidate['AverageTemperature'].rolling(5).mean()[-1], 2)\n",
    "yhat_test = pd.DataFrame({'AverageTemperatureRolling': [temps]}, \n",
    "                      index = test.index)"
   ]
  },
  {
   "cell_type": "code",
   "execution_count": 21,
   "metadata": {},
   "outputs": [
    {
     "data": {
      "text/plain": [
       "0.7944"
      ]
     },
     "execution_count": 21,
     "metadata": {},
     "output_type": "execute_result"
    }
   ],
   "source": [
    "round(sqrt(mean_squared_error(test['AverageTemperature'], yhat_test['AverageTemperatureRolling'])), 4)"
   ]
  },
  {
   "cell_type": "markdown",
   "metadata": {},
   "source": [
    "# Store Item Modeling"
   ]
  },
  {
   "cell_type": "markdown",
   "metadata": {},
   "source": [
    "## Acquire"
   ]
  },
  {
   "cell_type": "code",
   "execution_count": 22,
   "metadata": {},
   "outputs": [],
   "source": [
    "df = acquire.complete_data(cached = True)"
   ]
  },
  {
   "cell_type": "markdown",
   "metadata": {},
   "source": [
    "## Prep"
   ]
  },
  {
   "cell_type": "code",
   "execution_count": 23,
   "metadata": {},
   "outputs": [],
   "source": [
    "df = prepare.prepare_items(df)\n",
    "df = df[df['store_id'] == 9]\n",
    "df = pd.DataFrame(df.groupby('sale_date').sales_total.sum())\n",
    "df = df.resample('M').sum()"
   ]
  },
  {
   "cell_type": "markdown",
   "metadata": {},
   "source": [
    "## Split"
   ]
  },
  {
   "cell_type": "code",
   "execution_count": 24,
   "metadata": {},
   "outputs": [],
   "source": [
    "train_size = .70\n",
    "n = df.shape[0]\n",
    "test_start_index = round(train_size * n)\n",
    "\n",
    "train = df[:test_start_index]\n",
    "test = df[test_start_index:]"
   ]
  },
  {
   "cell_type": "markdown",
   "metadata": {},
   "source": [
    "## Explore"
   ]
  },
  {
   "cell_type": "code",
   "execution_count": 27,
   "metadata": {},
   "outputs": [
    {
     "data": {
      "text/plain": [
       "[<matplotlib.lines.Line2D at 0x7fbbf8bc7fa0>]"
      ]
     },
     "execution_count": 27,
     "metadata": {},
     "output_type": "execute_result"
    },
    {
     "data": {
      "image/png": "[encoded data removed]",
      "text/plain": [
       "<Figure size 432x288 with 1 Axes>"
      ]
     },
     "metadata": {
      "needs_background": "light"
     },
     "output_type": "display_data"
    }
   ],
   "source": [
    "plt.plot(train.index, train.sales_total)"
   ]
  },
  {
   "cell_type": "markdown",
   "metadata": {},
   "source": [
    "## Model"
   ]
  },
  {
   "cell_type": "markdown",
   "metadata": {},
   "source": [
    "### Last observed value"
   ]
  },
  {
   "cell_type": "code",
   "execution_count": 34,
   "metadata": {},
   "outputs": [
    {
     "data": {
      "text/html": [
       "<div>\n",
       "<style scoped>\n",
       "    .dataframe tbody tr th:only-of-type {\n",
       "        vertical-align: middle;\n",
       "    }\n",
       "\n",
       "    .dataframe tbody tr th {\n",
       "        vertical-align: top;\n",
       "    }\n",
       "\n",
       "    .dataframe thead th {\n",
       "        text-align: right;\n",
       "    }\n",
       "</style>\n",
       "<table border=\"1\" class=\"dataframe\">\n",
       "  <thead>\n",
       "    <tr style=\"text-align: right;\">\n",
       "      <th></th>\n",
       "      <th>total_sales_LOV</th>\n",
       "    </tr>\n",
       "    <tr>\n",
       "      <th>sale_date</th>\n",
       "      <th></th>\n",
       "    </tr>\n",
       "  </thead>\n",
       "  <tbody>\n",
       "    <tr>\n",
       "      <th>2016-07-31 00:00:00+00:00</th>\n",
       "      <td>580322.55</td>\n",
       "    </tr>\n",
       "    <tr>\n",
       "      <th>2016-08-31 00:00:00+00:00</th>\n",
       "      <td>580322.55</td>\n",
       "    </tr>\n",
       "    <tr>\n",
       "      <th>2016-09-30 00:00:00+00:00</th>\n",
       "      <td>580322.55</td>\n",
       "    </tr>\n",
       "    <tr>\n",
       "      <th>2016-10-31 00:00:00+00:00</th>\n",
       "      <td>580322.55</td>\n",
       "    </tr>\n",
       "    <tr>\n",
       "      <th>2016-11-30 00:00:00+00:00</th>\n",
       "      <td>580322.55</td>\n",
       "    </tr>\n",
       "  </tbody>\n",
       "</table>\n",
       "</div>"
      ],
      "text/plain": [
       "                           total_sales_LOV\n",
       "sale_date                                 \n",
       "2016-07-31 00:00:00+00:00        580322.55\n",
       "2016-08-31 00:00:00+00:00        580322.55\n",
       "2016-09-30 00:00:00+00:00        580322.55\n",
       "2016-10-31 00:00:00+00:00        580322.55\n",
       "2016-11-30 00:00:00+00:00        580322.55"
      ]
     },
     "execution_count": 34,
     "metadata": {},
     "output_type": "execute_result"
    }
   ],
   "source": [
    "# second to last value is being used as the last value is certainly an outlier\n",
    "\n",
    "moneys = round(train.sales_total[-1:][0], 2)\n",
    "yhat_df = pd.DataFrame({'total_sales_LOV': [moneys]}, \n",
    "                      index = test.index)\n",
    "yhat_df.head()"
   ]
  },
  {
   "cell_type": "markdown",
   "metadata": {},
   "source": [
    "### Simple average"
   ]
  },
  {
   "cell_type": "code",
   "execution_count": 35,
   "metadata": {},
   "outputs": [
    {
     "data": {
      "text/html": [
       "<div>\n",
       "<style scoped>\n",
       "    .dataframe tbody tr th:only-of-type {\n",
       "        vertical-align: middle;\n",
       "    }\n",
       "\n",
       "    .dataframe tbody tr th {\n",
       "        vertical-align: top;\n",
       "    }\n",
       "\n",
       "    .dataframe thead th {\n",
       "        text-align: right;\n",
       "    }\n",
       "</style>\n",
       "<table border=\"1\" class=\"dataframe\">\n",
       "  <thead>\n",
       "    <tr style=\"text-align: right;\">\n",
       "      <th></th>\n",
       "      <th>total_sales_LOV</th>\n",
       "      <th>AverageSalesSimple</th>\n",
       "    </tr>\n",
       "    <tr>\n",
       "      <th>sale_date</th>\n",
       "      <th></th>\n",
       "      <th></th>\n",
       "    </tr>\n",
       "  </thead>\n",
       "  <tbody>\n",
       "    <tr>\n",
       "      <th>2016-07-31 00:00:00+00:00</th>\n",
       "      <td>580322.55</td>\n",
       "      <td>425170.64</td>\n",
       "    </tr>\n",
       "    <tr>\n",
       "      <th>2016-08-31 00:00:00+00:00</th>\n",
       "      <td>580322.55</td>\n",
       "      <td>425170.64</td>\n",
       "    </tr>\n",
       "    <tr>\n",
       "      <th>2016-09-30 00:00:00+00:00</th>\n",
       "      <td>580322.55</td>\n",
       "      <td>425170.64</td>\n",
       "    </tr>\n",
       "    <tr>\n",
       "      <th>2016-10-31 00:00:00+00:00</th>\n",
       "      <td>580322.55</td>\n",
       "      <td>425170.64</td>\n",
       "    </tr>\n",
       "    <tr>\n",
       "      <th>2016-11-30 00:00:00+00:00</th>\n",
       "      <td>580322.55</td>\n",
       "      <td>425170.64</td>\n",
       "    </tr>\n",
       "  </tbody>\n",
       "</table>\n",
       "</div>"
      ],
      "text/plain": [
       "                           total_sales_LOV  AverageSalesSimple\n",
       "sale_date                                                     \n",
       "2016-07-31 00:00:00+00:00        580322.55           425170.64\n",
       "2016-08-31 00:00:00+00:00        580322.55           425170.64\n",
       "2016-09-30 00:00:00+00:00        580322.55           425170.64\n",
       "2016-10-31 00:00:00+00:00        580322.55           425170.64\n",
       "2016-11-30 00:00:00+00:00        580322.55           425170.64"
      ]
     },
     "execution_count": 35,
     "metadata": {},
     "output_type": "execute_result"
    }
   ],
   "source": [
    "moneys = round(train.sales_total.mean(), 2)\n",
    "yhat_df['AverageSalesSimple'] = moneys\n",
    "yhat_df.head()"
   ]
  },
  {
   "cell_type": "markdown",
   "metadata": {},
   "source": [
    "### Rolling average"
   ]
  },
  {
   "cell_type": "code",
   "execution_count": 36,
   "metadata": {},
   "outputs": [
    {
     "data": {
      "text/html": [
       "<div>\n",
       "<style scoped>\n",
       "    .dataframe tbody tr th:only-of-type {\n",
       "        vertical-align: middle;\n",
       "    }\n",
       "\n",
       "    .dataframe tbody tr th {\n",
       "        vertical-align: top;\n",
       "    }\n",
       "\n",
       "    .dataframe thead th {\n",
       "        text-align: right;\n",
       "    }\n",
       "</style>\n",
       "<table border=\"1\" class=\"dataframe\">\n",
       "  <thead>\n",
       "    <tr style=\"text-align: right;\">\n",
       "      <th></th>\n",
       "      <th>total_sales_LOV</th>\n",
       "      <th>AverageSalesSimple</th>\n",
       "      <th>AverageSalesRolling</th>\n",
       "    </tr>\n",
       "    <tr>\n",
       "      <th>sale_date</th>\n",
       "      <th></th>\n",
       "      <th></th>\n",
       "      <th></th>\n",
       "    </tr>\n",
       "  </thead>\n",
       "  <tbody>\n",
       "    <tr>\n",
       "      <th>2016-07-31 00:00:00+00:00</th>\n",
       "      <td>580322.55</td>\n",
       "      <td>425170.64</td>\n",
       "      <td>489233.2</td>\n",
       "    </tr>\n",
       "    <tr>\n",
       "      <th>2016-08-31 00:00:00+00:00</th>\n",
       "      <td>580322.55</td>\n",
       "      <td>425170.64</td>\n",
       "      <td>489233.2</td>\n",
       "    </tr>\n",
       "    <tr>\n",
       "      <th>2016-09-30 00:00:00+00:00</th>\n",
       "      <td>580322.55</td>\n",
       "      <td>425170.64</td>\n",
       "      <td>489233.2</td>\n",
       "    </tr>\n",
       "    <tr>\n",
       "      <th>2016-10-31 00:00:00+00:00</th>\n",
       "      <td>580322.55</td>\n",
       "      <td>425170.64</td>\n",
       "      <td>489233.2</td>\n",
       "    </tr>\n",
       "    <tr>\n",
       "      <th>2016-11-30 00:00:00+00:00</th>\n",
       "      <td>580322.55</td>\n",
       "      <td>425170.64</td>\n",
       "      <td>489233.2</td>\n",
       "    </tr>\n",
       "  </tbody>\n",
       "</table>\n",
       "</div>"
      ],
      "text/plain": [
       "                           total_sales_LOV  AverageSalesSimple  \\\n",
       "sale_date                                                        \n",
       "2016-07-31 00:00:00+00:00        580322.55           425170.64   \n",
       "2016-08-31 00:00:00+00:00        580322.55           425170.64   \n",
       "2016-09-30 00:00:00+00:00        580322.55           425170.64   \n",
       "2016-10-31 00:00:00+00:00        580322.55           425170.64   \n",
       "2016-11-30 00:00:00+00:00        580322.55           425170.64   \n",
       "\n",
       "                           AverageSalesRolling  \n",
       "sale_date                                       \n",
       "2016-07-31 00:00:00+00:00             489233.2  \n",
       "2016-08-31 00:00:00+00:00             489233.2  \n",
       "2016-09-30 00:00:00+00:00             489233.2  \n",
       "2016-10-31 00:00:00+00:00             489233.2  \n",
       "2016-11-30 00:00:00+00:00             489233.2  "
      ]
     },
     "execution_count": 36,
     "metadata": {},
     "output_type": "execute_result"
    }
   ],
   "source": [
    "moneys = round(train.sales_total.rolling(5).mean()[-1], 2)\n",
    "yhat_df['AverageSalesRolling'] = moneys\n",
    "yhat_df.head()"
   ]
  },
  {
   "cell_type": "markdown",
   "metadata": {},
   "source": [
    "### Holt's linear trend"
   ]
  },
  {
   "cell_type": "code",
   "execution_count": 40,
   "metadata": {},
   "outputs": [
    {
     "name": "stderr",
     "output_type": "stream",
     "text": [
      "/usr/local/anaconda3/lib/python3.8/site-packages/statsmodels/tsa/holtwinters/model.py:920: ConvergenceWarning: Optimization failed to converge. Check mle_retvals.\n",
      "  warnings.warn(\n"
     ]
    },
    {
     "data": {
      "text/html": [
       "<div>\n",
       "<style scoped>\n",
       "    .dataframe tbody tr th:only-of-type {\n",
       "        vertical-align: middle;\n",
       "    }\n",
       "\n",
       "    .dataframe tbody tr th {\n",
       "        vertical-align: top;\n",
       "    }\n",
       "\n",
       "    .dataframe thead th {\n",
       "        text-align: right;\n",
       "    }\n",
       "</style>\n",
       "<table border=\"1\" class=\"dataframe\">\n",
       "  <thead>\n",
       "    <tr style=\"text-align: right;\">\n",
       "      <th></th>\n",
       "      <th>total_sales_LOV</th>\n",
       "      <th>AverageSalesSimple</th>\n",
       "      <th>AverageSalesRolling</th>\n",
       "      <th>AverageSalesHolt</th>\n",
       "    </tr>\n",
       "    <tr>\n",
       "      <th>sale_date</th>\n",
       "      <th></th>\n",
       "      <th></th>\n",
       "      <th></th>\n",
       "      <th></th>\n",
       "    </tr>\n",
       "  </thead>\n",
       "  <tbody>\n",
       "    <tr>\n",
       "      <th>2016-07-31 00:00:00+00:00</th>\n",
       "      <td>580322.55</td>\n",
       "      <td>425170.64</td>\n",
       "      <td>489233.2</td>\n",
       "      <td>582357.94</td>\n",
       "    </tr>\n",
       "    <tr>\n",
       "      <th>2016-08-31 00:00:00+00:00</th>\n",
       "      <td>580322.55</td>\n",
       "      <td>425170.64</td>\n",
       "      <td>489233.2</td>\n",
       "      <td>584463.88</td>\n",
       "    </tr>\n",
       "    <tr>\n",
       "      <th>2016-09-30 00:00:00+00:00</th>\n",
       "      <td>580322.55</td>\n",
       "      <td>425170.64</td>\n",
       "      <td>489233.2</td>\n",
       "      <td>586548.76</td>\n",
       "    </tr>\n",
       "    <tr>\n",
       "      <th>2016-10-31 00:00:00+00:00</th>\n",
       "      <td>580322.55</td>\n",
       "      <td>425170.64</td>\n",
       "      <td>489233.2</td>\n",
       "      <td>588612.79</td>\n",
       "    </tr>\n",
       "    <tr>\n",
       "      <th>2016-11-30 00:00:00+00:00</th>\n",
       "      <td>580322.55</td>\n",
       "      <td>425170.64</td>\n",
       "      <td>489233.2</td>\n",
       "      <td>590656.17</td>\n",
       "    </tr>\n",
       "  </tbody>\n",
       "</table>\n",
       "</div>"
      ],
      "text/plain": [
       "                           total_sales_LOV  AverageSalesSimple  \\\n",
       "sale_date                                                        \n",
       "2016-07-31 00:00:00+00:00        580322.55           425170.64   \n",
       "2016-08-31 00:00:00+00:00        580322.55           425170.64   \n",
       "2016-09-30 00:00:00+00:00        580322.55           425170.64   \n",
       "2016-10-31 00:00:00+00:00        580322.55           425170.64   \n",
       "2016-11-30 00:00:00+00:00        580322.55           425170.64   \n",
       "\n",
       "                           AverageSalesRolling  AverageSalesHolt  \n",
       "sale_date                                                         \n",
       "2016-07-31 00:00:00+00:00             489233.2         582357.94  \n",
       "2016-08-31 00:00:00+00:00             489233.2         584463.88  \n",
       "2016-09-30 00:00:00+00:00             489233.2         586548.76  \n",
       "2016-10-31 00:00:00+00:00             489233.2         588612.79  \n",
       "2016-11-30 00:00:00+00:00             489233.2         590656.17  "
      ]
     },
     "execution_count": 40,
     "metadata": {},
     "output_type": "execute_result"
    }
   ],
   "source": [
    "model = Holt(train['sales_total'], exponential=False, damped=True)\n",
    "model = model.fit(optimized=True)\n",
    "moneys = model.predict(start = test.sales_total.index[0],\n",
    "                           end = test.sales_total.index[-1])\n",
    "yhat_df['AverageSalesHolt'] = round(moneys, 2)\n",
    "yhat_df.head()"
   ]
  },
  {
   "cell_type": "markdown",
   "metadata": {},
   "source": [
    "## Evaluate"
   ]
  },
  {
   "cell_type": "code",
   "execution_count": 42,
   "metadata": {},
   "outputs": [
    {
     "data": {
      "text/html": [
       "<div>\n",
       "<style scoped>\n",
       "    .dataframe tbody tr th:only-of-type {\n",
       "        vertical-align: middle;\n",
       "    }\n",
       "\n",
       "    .dataframe tbody tr th {\n",
       "        vertical-align: top;\n",
       "    }\n",
       "\n",
       "    .dataframe thead th {\n",
       "        text-align: right;\n",
       "    }\n",
       "</style>\n",
       "<table border=\"1\" class=\"dataframe\">\n",
       "  <thead>\n",
       "    <tr style=\"text-align: right;\">\n",
       "      <th></th>\n",
       "      <th>total_sales_LOV</th>\n",
       "      <th>AverageSalesSimple</th>\n",
       "      <th>AverageSalesRolling</th>\n",
       "      <th>AverageSalesHolt</th>\n",
       "    </tr>\n",
       "  </thead>\n",
       "  <tbody>\n",
       "    <tr>\n",
       "      <th>0</th>\n",
       "      <td>115023.578</td>\n",
       "      <td>123554.5686</td>\n",
       "      <td>92681.8829</td>\n",
       "      <td>127888.7386</td>\n",
       "    </tr>\n",
       "  </tbody>\n",
       "</table>\n",
       "</div>"
      ],
      "text/plain": [
       "   total_sales_LOV  AverageSalesSimple  AverageSalesRolling  AverageSalesHolt\n",
       "0       115023.578         123554.5686           92681.8829       127888.7386"
      ]
     },
     "execution_count": 42,
     "metadata": {},
     "output_type": "execute_result"
    }
   ],
   "source": [
    "results = pd.DataFrame()\n",
    "for col in yhat_df.columns:\n",
    "    results[col] = [round(sqrt(mean_squared_error(test['sales_total'], yhat_df[col])), 4)]\n",
    "results"
   ]
  },
  {
   "cell_type": "markdown",
   "metadata": {},
   "source": [
    "## Predict"
   ]
  },
  {
   "cell_type": "code",
   "execution_count": 64,
   "metadata": {},
   "outputs": [],
   "source": [
    "final = pd.DataFrame()\n",
    "final['sale_date'] = test.shift(periods=12, freq='M').index[6:]\n",
    "final = final.set_index('sale_date')\n",
    "final['store_id'] = 9\n",
    "moneys = round(test.sales_total.rolling(5).mean()[-1], 2)\n",
    "final['y_hat_pred'] = moneys"
   ]
  },
  {
   "cell_type": "code",
   "execution_count": 65,
   "metadata": {},
   "outputs": [
    {
     "data": {
      "text/html": [
       "<div>\n",
       "<style scoped>\n",
       "    .dataframe tbody tr th:only-of-type {\n",
       "        vertical-align: middle;\n",
       "    }\n",
       "\n",
       "    .dataframe tbody tr th {\n",
       "        vertical-align: top;\n",
       "    }\n",
       "\n",
       "    .dataframe thead th {\n",
       "        text-align: right;\n",
       "    }\n",
       "</style>\n",
       "<table border=\"1\" class=\"dataframe\">\n",
       "  <thead>\n",
       "    <tr style=\"text-align: right;\">\n",
       "      <th></th>\n",
       "      <th>store_id</th>\n",
       "      <th>y_hat_pred</th>\n",
       "    </tr>\n",
       "    <tr>\n",
       "      <th>sale_date</th>\n",
       "      <th></th>\n",
       "      <th></th>\n",
       "    </tr>\n",
       "  </thead>\n",
       "  <tbody>\n",
       "    <tr>\n",
       "      <th>2018-01-31 00:00:00+00:00</th>\n",
       "      <td>9</td>\n",
       "      <td>508498.98</td>\n",
       "    </tr>\n",
       "    <tr>\n",
       "      <th>2018-02-28 00:00:00+00:00</th>\n",
       "      <td>9</td>\n",
       "      <td>508498.98</td>\n",
       "    </tr>\n",
       "    <tr>\n",
       "      <th>2018-03-31 00:00:00+00:00</th>\n",
       "      <td>9</td>\n",
       "      <td>508498.98</td>\n",
       "    </tr>\n",
       "    <tr>\n",
       "      <th>2018-04-30 00:00:00+00:00</th>\n",
       "      <td>9</td>\n",
       "      <td>508498.98</td>\n",
       "    </tr>\n",
       "    <tr>\n",
       "      <th>2018-05-31 00:00:00+00:00</th>\n",
       "      <td>9</td>\n",
       "      <td>508498.98</td>\n",
       "    </tr>\n",
       "    <tr>\n",
       "      <th>2018-06-30 00:00:00+00:00</th>\n",
       "      <td>9</td>\n",
       "      <td>508498.98</td>\n",
       "    </tr>\n",
       "    <tr>\n",
       "      <th>2018-07-31 00:00:00+00:00</th>\n",
       "      <td>9</td>\n",
       "      <td>508498.98</td>\n",
       "    </tr>\n",
       "    <tr>\n",
       "      <th>2018-08-31 00:00:00+00:00</th>\n",
       "      <td>9</td>\n",
       "      <td>508498.98</td>\n",
       "    </tr>\n",
       "    <tr>\n",
       "      <th>2018-09-30 00:00:00+00:00</th>\n",
       "      <td>9</td>\n",
       "      <td>508498.98</td>\n",
       "    </tr>\n",
       "    <tr>\n",
       "      <th>2018-10-31 00:00:00+00:00</th>\n",
       "      <td>9</td>\n",
       "      <td>508498.98</td>\n",
       "    </tr>\n",
       "    <tr>\n",
       "      <th>2018-11-30 00:00:00+00:00</th>\n",
       "      <td>9</td>\n",
       "      <td>508498.98</td>\n",
       "    </tr>\n",
       "    <tr>\n",
       "      <th>2018-12-31 00:00:00+00:00</th>\n",
       "      <td>9</td>\n",
       "      <td>508498.98</td>\n",
       "    </tr>\n",
       "  </tbody>\n",
       "</table>\n",
       "</div>"
      ],
      "text/plain": [
       "                           store_id  y_hat_pred\n",
       "sale_date                                      \n",
       "2018-01-31 00:00:00+00:00         9   508498.98\n",
       "2018-02-28 00:00:00+00:00         9   508498.98\n",
       "2018-03-31 00:00:00+00:00         9   508498.98\n",
       "2018-04-30 00:00:00+00:00         9   508498.98\n",
       "2018-05-31 00:00:00+00:00         9   508498.98\n",
       "2018-06-30 00:00:00+00:00         9   508498.98\n",
       "2018-07-31 00:00:00+00:00         9   508498.98\n",
       "2018-08-31 00:00:00+00:00         9   508498.98\n",
       "2018-09-30 00:00:00+00:00         9   508498.98\n",
       "2018-10-31 00:00:00+00:00         9   508498.98\n",
       "2018-11-30 00:00:00+00:00         9   508498.98\n",
       "2018-12-31 00:00:00+00:00         9   508498.98"
      ]
     },
     "execution_count": 65,
     "metadata": {},
     "output_type": "execute_result"
    }
   ],
   "source": [
    "final"
   ]
  },
  {
   "cell_type": "code",
   "execution_count": null,
   "metadata": {},
   "outputs": [],
   "source": []
  }
 ],
 "metadata": {
  "kernelspec": {
   "display_name": "Python 3",
   "language": "python",
   "name": "python3"
  },
  "language_info": {
   "codemirror_mode": {
    "name": "ipython",
    "version": 3
   },
   "file_extension": ".py",
   "mimetype": "text/x-python",
   "name": "python",
   "nbconvert_exporter": "python",
   "pygments_lexer": "ipython3",
   "version": "3.8.5"
  }
 },
 "nbformat": 4,
 "nbformat_minor": 4
}
